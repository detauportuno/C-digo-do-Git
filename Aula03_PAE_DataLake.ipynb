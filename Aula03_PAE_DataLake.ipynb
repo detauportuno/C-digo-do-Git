{
  "nbformat": 4,
  "nbformat_minor": 0,
  "metadata": {
    "colab": {
      "provenance": [],
      "authorship_tag": "ABX9TyPqrewHVsmFX/q6mBtepqm8",
      "include_colab_link": true
    },
    "kernelspec": {
      "name": "python3",
      "display_name": "Python 3"
    },
    "language_info": {
      "name": "python"
    }
  },
  "cells": [
    {
      "cell_type": "markdown",
      "metadata": {
        "id": "view-in-github",
        "colab_type": "text"
      },
      "source": [
        "<a href=\"https://colab.research.google.com/github/detauportuno/C-digo-do-Git/blob/main/Aula03_PAE_DataLake.ipynb\" target=\"_parent\"><img src=\"https://colab.research.google.com/assets/colab-badge.svg\" alt=\"Open In Colab\"/></a>"
      ]
    },
    {
      "cell_type": "code",
      "source": [
        "!pip install pandas"
      ],
      "metadata": {
        "colab": {
          "base_uri": "https://localhost:8080/"
        },
        "id": "Ugbh4PSMhs9F",
        "outputId": "8f3b90dd-23ce-4c0d-e25d-61f9d06f5979"
      },
      "execution_count": 22,
      "outputs": [
        {
          "output_type": "stream",
          "name": "stdout",
          "text": [
            "Requirement already satisfied: pandas in /usr/local/lib/python3.10/dist-packages (1.5.3)\n",
            "Requirement already satisfied: python-dateutil>=2.8.1 in /usr/local/lib/python3.10/dist-packages (from pandas) (2.8.2)\n",
            "Requirement already satisfied: pytz>=2020.1 in /usr/local/lib/python3.10/dist-packages (from pandas) (2023.3.post1)\n",
            "Requirement already satisfied: numpy>=1.21.0 in /usr/local/lib/python3.10/dist-packages (from pandas) (1.23.5)\n",
            "Requirement already satisfied: six>=1.5 in /usr/local/lib/python3.10/dist-packages (from python-dateutil>=2.8.1->pandas) (1.16.0)\n"
          ]
        }
      ]
    },
    {
      "cell_type": "code",
      "source": [
        "import pandas as pd"
      ],
      "metadata": {
        "id": "c05xMPBSh1Vu"
      },
      "execution_count": 29,
      "outputs": []
    },
    {
      "cell_type": "code",
      "source": [
        "series = pd.Series([1,2,3,4])"
      ],
      "metadata": {
        "id": "1XREM_LKiDz9"
      },
      "execution_count": 30,
      "outputs": []
    },
    {
      "cell_type": "code",
      "source": [
        "df = pd.read_csv(\"/content/games (2).csv\")"
      ],
      "metadata": {
        "id": "YJoxTYeCliQk"
      },
      "execution_count": 33,
      "outputs": []
    },
    {
      "cell_type": "code",
      "source": [
        "pd.set_option('display.max_colwidth', 100)"
      ],
      "metadata": {
        "id": "DdsR1EfrnE08"
      },
      "execution_count": 34,
      "outputs": []
    },
    {
      "cell_type": "code",
      "source": [
        "df['Reviews']"
      ],
      "metadata": {
        "colab": {
          "base_uri": "https://localhost:8080/"
        },
        "id": "_b1RpOmxnVPi",
        "outputId": "e856e155-50ab-4e7c-c2e1-e376fdb76c99"
      },
      "execution_count": 35,
      "outputs": [
        {
          "output_type": "execute_result",
          "data": {
            "text/plain": [
              "0       [\"The first playthrough of elden ring is one of the best eperiences gaming can offer you but aft...\n",
              "1       ['convinced this is a roguelike for people who do not like the genre. The art is technically goo...\n",
              "2       ['This game is the game (that is not CS:GO) that I have played the most ever. I have played this...\n",
              "3       ['soundtrack is tied for #1 with nier automata.  a super charming story and characters which hav...\n",
              "4       [\"this games worldbuilding is incredible, with its amazing soundtrack and gorgeous art direction...\n",
              "                                                       ...                                                 \n",
              "1507    ['Very enjoyable game. The story adds onto the movies without ruining anything from them. The ga...\n",
              "1508    ['jogo morto mas bom', 'not my cup of tea', \"Compared to the previous two sonic kart racers from...\n",
              "1509    ['Underrated.', 'A grandes rasgos, es como un MMO pero para un jugador. Me explico:', 'peak kino...\n",
              "1510    ['Bu türe bu oyunla girmeye çalışmak hataydı sanırım.', \"Even if this turns out to be a perfect ...\n",
              "1511    ['Legal', 'Pretty Average Lego Game But It Was My Childhood', 'pog lego game', 'Pretty decent le...\n",
              "Name: Reviews, Length: 1512, dtype: object"
            ]
          },
          "metadata": {},
          "execution_count": 35
        }
      ]
    },
    {
      "cell_type": "code",
      "source": [
        "df.info()"
      ],
      "metadata": {
        "colab": {
          "base_uri": "https://localhost:8080/"
        },
        "id": "22f5m41UnlJT",
        "outputId": "79ab38bc-b299-41e8-c7b8-404a45e3c1af"
      },
      "execution_count": 36,
      "outputs": [
        {
          "output_type": "stream",
          "name": "stdout",
          "text": [
            "<class 'pandas.core.frame.DataFrame'>\n",
            "RangeIndex: 1512 entries, 0 to 1511\n",
            "Data columns (total 14 columns):\n",
            " #   Column             Non-Null Count  Dtype  \n",
            "---  ------             --------------  -----  \n",
            " 0   Unnamed: 0         1512 non-null   int64  \n",
            " 1   Title              1512 non-null   object \n",
            " 2   Release Date       1512 non-null   object \n",
            " 3   Team               1511 non-null   object \n",
            " 4   Rating             1499 non-null   float64\n",
            " 5   Times Listed       1512 non-null   object \n",
            " 6   Number of Reviews  1512 non-null   object \n",
            " 7   Genres             1512 non-null   object \n",
            " 8   Summary            1511 non-null   object \n",
            " 9   Reviews            1512 non-null   object \n",
            " 10  Plays              1512 non-null   object \n",
            " 11  Playing            1512 non-null   object \n",
            " 12  Backlogs           1512 non-null   object \n",
            " 13  Wishlist           1512 non-null   object \n",
            "dtypes: float64(1), int64(1), object(12)\n",
            "memory usage: 165.5+ KB\n"
          ]
        }
      ]
    },
    {
      "cell_type": "code",
      "source": [
        "df.columns"
      ],
      "metadata": {
        "colab": {
          "base_uri": "https://localhost:8080/"
        },
        "id": "RjKLeo1so9Sp",
        "outputId": "7f59ddaa-25da-43f8-d157-e9534e0fd7de"
      },
      "execution_count": 37,
      "outputs": [
        {
          "output_type": "execute_result",
          "data": {
            "text/plain": [
              "Index(['Unnamed: 0', 'Title', 'Release Date', 'Team', 'Rating', 'Times Listed',\n",
              "       'Number of Reviews', 'Genres', 'Summary', 'Reviews', 'Plays', 'Playing',\n",
              "       'Backlogs', 'Wishlist'],\n",
              "      dtype='object')"
            ]
          },
          "metadata": {},
          "execution_count": 37
        }
      ]
    },
    {
      "cell_type": "code",
      "source": [
        "df.query(\"`Release Date` != 'releases on TBD'\")"
      ],
      "metadata": {
        "colab": {
          "base_uri": "https://localhost:8080/",
          "height": 1000
        },
        "id": "mNPkDYNno_Vq",
        "outputId": "f8b4ee4f-5510-447c-c634-51230a1fb512"
      },
      "execution_count": 40,
      "outputs": [
        {
          "output_type": "execute_result",
          "data": {
            "text/plain": [
              "      Unnamed: 0                                    Title  Release Date  \\\n",
              "0              0                               Elden Ring  Feb 25, 2022   \n",
              "1              1                                    Hades  Dec 10, 2019   \n",
              "2              2  The Legend of Zelda: Breath of the Wild  Mar 03, 2017   \n",
              "3              3                                Undertale  Sep 15, 2015   \n",
              "4              4                            Hollow Knight  Feb 24, 2017   \n",
              "...          ...                                      ...           ...   \n",
              "1507        1507             Back to the Future: The Game  Dec 22, 2010   \n",
              "1508        1508                        Team Sonic Racing  May 21, 2019   \n",
              "1509        1509                           Dragon's Dogma  May 22, 2012   \n",
              "1510        1510                          Baldur's Gate 3  Oct 06, 2020   \n",
              "1511        1511                 The LEGO Movie Videogame  Feb 04, 2014   \n",
              "\n",
              "                                                     Team  Rating  \\\n",
              "0          ['Bandai Namco Entertainment', 'FromSoftware']     4.5   \n",
              "1                                    ['Supergiant Games']     4.3   \n",
              "2     ['Nintendo', 'Nintendo EPD Production Group No. 3']     4.4   \n",
              "3                                      ['tobyfox', '8-4']     4.2   \n",
              "4                                         ['Team Cherry']     4.4   \n",
              "...                                                   ...     ...   \n",
              "1507                                   ['Telltale Games']     3.2   \n",
              "1508                             ['Sumo Digital', 'Sega']     2.9   \n",
              "1509                                           ['Capcom']     3.7   \n",
              "1510                                   ['Larian Studios']     4.1   \n",
              "1511                            ['WB Games', 'TT Fusion']     2.8   \n",
              "\n",
              "     Times Listed Number of Reviews  \\\n",
              "0            3.9K              3.9K   \n",
              "1            2.9K              2.9K   \n",
              "2            4.3K              4.3K   \n",
              "3            3.5K              3.5K   \n",
              "4              3K                3K   \n",
              "...           ...               ...   \n",
              "1507           94                94   \n",
              "1508          264               264   \n",
              "1509          210               210   \n",
              "1510          165               165   \n",
              "1511          184               184   \n",
              "\n",
              "                                                                   Genres  \\\n",
              "0                                                    ['Adventure', 'RPG']   \n",
              "1                                ['Adventure', 'Brawler', 'Indie', 'RPG']   \n",
              "2                                                    ['Adventure', 'RPG']   \n",
              "3                    ['Adventure', 'Indie', 'RPG', 'Turn Based Strategy']   \n",
              "4                                      ['Adventure', 'Indie', 'Platform']   \n",
              "...                                                                   ...   \n",
              "1507                                     ['Adventure', 'Point-and-Click']   \n",
              "1508                                                 ['Arcade', 'Racing']   \n",
              "1509                                                   ['Brawler', 'RPG']   \n",
              "1510  ['Adventure', 'RPG', 'Strategy', 'Tactical', 'Turn Based Strategy']   \n",
              "1511                                              ['Adventure', 'Puzzle']   \n",
              "\n",
              "                                                                                                  Summary  \\\n",
              "0     Elden Ring is a fantasy, action and open world game with RPG elements such as stats, weapons and...   \n",
              "1     A rogue-lite hack and slash dungeon crawler in which Zagreus, son of Hades the Greek god of the ...   \n",
              "2     The Legend of Zelda: Breath of the Wild is the first 3D open-world game in the Zelda series. Lin...   \n",
              "3     A small child falls into the Underground, where monsters have long been banished by humans and a...   \n",
              "4     A 2D metroidvania with an emphasis on close combat and exploration in which the player enters th...   \n",
              "...                                                                                                   ...   \n",
              "1507  Back to the Future: The Game is one of Telltale Games' popular episodic games. It follows the st...   \n",
              "1508  Team Sonic Racing combines the best elements of arcade and fast-paced competitive style racing a...   \n",
              "1509  Set in a huge open world, Dragon’s Dogma: Dark Arisen presents a rewarding action combat experie...   \n",
              "1510  An ancient evil has returned to Baldur's Gate, intent on devouring it from the inside out. The f...   \n",
              "1511  Join Emmet and an unlikely group of resistance fighters in their heroic quest to thwart Lord Bus...   \n",
              "\n",
              "                                                                                                  Reviews  \\\n",
              "0     [\"The first playthrough of elden ring is one of the best eperiences gaming can offer you but aft...   \n",
              "1     ['convinced this is a roguelike for people who do not like the genre. The art is technically goo...   \n",
              "2     ['This game is the game (that is not CS:GO) that I have played the most ever. I have played this...   \n",
              "3     ['soundtrack is tied for #1 with nier automata.  a super charming story and characters which hav...   \n",
              "4     [\"this games worldbuilding is incredible, with its amazing soundtrack and gorgeous art direction...   \n",
              "...                                                                                                   ...   \n",
              "1507  ['Very enjoyable game. The story adds onto the movies without ruining anything from them. The ga...   \n",
              "1508  ['jogo morto mas bom', 'not my cup of tea', \"Compared to the previous two sonic kart racers from...   \n",
              "1509  ['Underrated.', 'A grandes rasgos, es como un MMO pero para un jugador. Me explico:', 'peak kino...   \n",
              "1510  ['Bu türe bu oyunla girmeye çalışmak hataydı sanırım.', \"Even if this turns out to be a perfect ...   \n",
              "1511  ['Legal', 'Pretty Average Lego Game But It Was My Childhood', 'pog lego game', 'Pretty decent le...   \n",
              "\n",
              "     Plays Playing Backlogs Wishlist  \n",
              "0      17K    3.8K     4.6K     4.8K  \n",
              "1      21K    3.2K     6.3K     3.6K  \n",
              "2      30K    2.5K       5K     2.6K  \n",
              "3      28K     679     4.9K     1.8K  \n",
              "4      21K    2.4K     8.3K     2.3K  \n",
              "...    ...     ...      ...      ...  \n",
              "1507   763       5      223       67  \n",
              "1508  1.5K      49      413      107  \n",
              "1509  1.1K      45      487      206  \n",
              "1510   269      79      388      602  \n",
              "1511  1.7K      11      239       73  \n",
              "\n",
              "[1509 rows x 14 columns]"
            ],
            "text/html": [
              "\n",
              "  <div id=\"df-34f37c4b-a94b-4a74-92f3-71e592c7f8ed\" class=\"colab-df-container\">\n",
              "    <div>\n",
              "<style scoped>\n",
              "    .dataframe tbody tr th:only-of-type {\n",
              "        vertical-align: middle;\n",
              "    }\n",
              "\n",
              "    .dataframe tbody tr th {\n",
              "        vertical-align: top;\n",
              "    }\n",
              "\n",
              "    .dataframe thead th {\n",
              "        text-align: right;\n",
              "    }\n",
              "</style>\n",
              "<table border=\"1\" class=\"dataframe\">\n",
              "  <thead>\n",
              "    <tr style=\"text-align: right;\">\n",
              "      <th></th>\n",
              "      <th>Unnamed: 0</th>\n",
              "      <th>Title</th>\n",
              "      <th>Release Date</th>\n",
              "      <th>Team</th>\n",
              "      <th>Rating</th>\n",
              "      <th>Times Listed</th>\n",
              "      <th>Number of Reviews</th>\n",
              "      <th>Genres</th>\n",
              "      <th>Summary</th>\n",
              "      <th>Reviews</th>\n",
              "      <th>Plays</th>\n",
              "      <th>Playing</th>\n",
              "      <th>Backlogs</th>\n",
              "      <th>Wishlist</th>\n",
              "    </tr>\n",
              "  </thead>\n",
              "  <tbody>\n",
              "    <tr>\n",
              "      <th>0</th>\n",
              "      <td>0</td>\n",
              "      <td>Elden Ring</td>\n",
              "      <td>Feb 25, 2022</td>\n",
              "      <td>['Bandai Namco Entertainment', 'FromSoftware']</td>\n",
              "      <td>4.5</td>\n",
              "      <td>3.9K</td>\n",
              "      <td>3.9K</td>\n",
              "      <td>['Adventure', 'RPG']</td>\n",
              "      <td>Elden Ring is a fantasy, action and open world game with RPG elements such as stats, weapons and...</td>\n",
              "      <td>[\"The first playthrough of elden ring is one of the best eperiences gaming can offer you but aft...</td>\n",
              "      <td>17K</td>\n",
              "      <td>3.8K</td>\n",
              "      <td>4.6K</td>\n",
              "      <td>4.8K</td>\n",
              "    </tr>\n",
              "    <tr>\n",
              "      <th>1</th>\n",
              "      <td>1</td>\n",
              "      <td>Hades</td>\n",
              "      <td>Dec 10, 2019</td>\n",
              "      <td>['Supergiant Games']</td>\n",
              "      <td>4.3</td>\n",
              "      <td>2.9K</td>\n",
              "      <td>2.9K</td>\n",
              "      <td>['Adventure', 'Brawler', 'Indie', 'RPG']</td>\n",
              "      <td>A rogue-lite hack and slash dungeon crawler in which Zagreus, son of Hades the Greek god of the ...</td>\n",
              "      <td>['convinced this is a roguelike for people who do not like the genre. The art is technically goo...</td>\n",
              "      <td>21K</td>\n",
              "      <td>3.2K</td>\n",
              "      <td>6.3K</td>\n",
              "      <td>3.6K</td>\n",
              "    </tr>\n",
              "    <tr>\n",
              "      <th>2</th>\n",
              "      <td>2</td>\n",
              "      <td>The Legend of Zelda: Breath of the Wild</td>\n",
              "      <td>Mar 03, 2017</td>\n",
              "      <td>['Nintendo', 'Nintendo EPD Production Group No. 3']</td>\n",
              "      <td>4.4</td>\n",
              "      <td>4.3K</td>\n",
              "      <td>4.3K</td>\n",
              "      <td>['Adventure', 'RPG']</td>\n",
              "      <td>The Legend of Zelda: Breath of the Wild is the first 3D open-world game in the Zelda series. Lin...</td>\n",
              "      <td>['This game is the game (that is not CS:GO) that I have played the most ever. I have played this...</td>\n",
              "      <td>30K</td>\n",
              "      <td>2.5K</td>\n",
              "      <td>5K</td>\n",
              "      <td>2.6K</td>\n",
              "    </tr>\n",
              "    <tr>\n",
              "      <th>3</th>\n",
              "      <td>3</td>\n",
              "      <td>Undertale</td>\n",
              "      <td>Sep 15, 2015</td>\n",
              "      <td>['tobyfox', '8-4']</td>\n",
              "      <td>4.2</td>\n",
              "      <td>3.5K</td>\n",
              "      <td>3.5K</td>\n",
              "      <td>['Adventure', 'Indie', 'RPG', 'Turn Based Strategy']</td>\n",
              "      <td>A small child falls into the Underground, where monsters have long been banished by humans and a...</td>\n",
              "      <td>['soundtrack is tied for #1 with nier automata.  a super charming story and characters which hav...</td>\n",
              "      <td>28K</td>\n",
              "      <td>679</td>\n",
              "      <td>4.9K</td>\n",
              "      <td>1.8K</td>\n",
              "    </tr>\n",
              "    <tr>\n",
              "      <th>4</th>\n",
              "      <td>4</td>\n",
              "      <td>Hollow Knight</td>\n",
              "      <td>Feb 24, 2017</td>\n",
              "      <td>['Team Cherry']</td>\n",
              "      <td>4.4</td>\n",
              "      <td>3K</td>\n",
              "      <td>3K</td>\n",
              "      <td>['Adventure', 'Indie', 'Platform']</td>\n",
              "      <td>A 2D metroidvania with an emphasis on close combat and exploration in which the player enters th...</td>\n",
              "      <td>[\"this games worldbuilding is incredible, with its amazing soundtrack and gorgeous art direction...</td>\n",
              "      <td>21K</td>\n",
              "      <td>2.4K</td>\n",
              "      <td>8.3K</td>\n",
              "      <td>2.3K</td>\n",
              "    </tr>\n",
              "    <tr>\n",
              "      <th>...</th>\n",
              "      <td>...</td>\n",
              "      <td>...</td>\n",
              "      <td>...</td>\n",
              "      <td>...</td>\n",
              "      <td>...</td>\n",
              "      <td>...</td>\n",
              "      <td>...</td>\n",
              "      <td>...</td>\n",
              "      <td>...</td>\n",
              "      <td>...</td>\n",
              "      <td>...</td>\n",
              "      <td>...</td>\n",
              "      <td>...</td>\n",
              "      <td>...</td>\n",
              "    </tr>\n",
              "    <tr>\n",
              "      <th>1507</th>\n",
              "      <td>1507</td>\n",
              "      <td>Back to the Future: The Game</td>\n",
              "      <td>Dec 22, 2010</td>\n",
              "      <td>['Telltale Games']</td>\n",
              "      <td>3.2</td>\n",
              "      <td>94</td>\n",
              "      <td>94</td>\n",
              "      <td>['Adventure', 'Point-and-Click']</td>\n",
              "      <td>Back to the Future: The Game is one of Telltale Games' popular episodic games. It follows the st...</td>\n",
              "      <td>['Very enjoyable game. The story adds onto the movies without ruining anything from them. The ga...</td>\n",
              "      <td>763</td>\n",
              "      <td>5</td>\n",
              "      <td>223</td>\n",
              "      <td>67</td>\n",
              "    </tr>\n",
              "    <tr>\n",
              "      <th>1508</th>\n",
              "      <td>1508</td>\n",
              "      <td>Team Sonic Racing</td>\n",
              "      <td>May 21, 2019</td>\n",
              "      <td>['Sumo Digital', 'Sega']</td>\n",
              "      <td>2.9</td>\n",
              "      <td>264</td>\n",
              "      <td>264</td>\n",
              "      <td>['Arcade', 'Racing']</td>\n",
              "      <td>Team Sonic Racing combines the best elements of arcade and fast-paced competitive style racing a...</td>\n",
              "      <td>['jogo morto mas bom', 'not my cup of tea', \"Compared to the previous two sonic kart racers from...</td>\n",
              "      <td>1.5K</td>\n",
              "      <td>49</td>\n",
              "      <td>413</td>\n",
              "      <td>107</td>\n",
              "    </tr>\n",
              "    <tr>\n",
              "      <th>1509</th>\n",
              "      <td>1509</td>\n",
              "      <td>Dragon's Dogma</td>\n",
              "      <td>May 22, 2012</td>\n",
              "      <td>['Capcom']</td>\n",
              "      <td>3.7</td>\n",
              "      <td>210</td>\n",
              "      <td>210</td>\n",
              "      <td>['Brawler', 'RPG']</td>\n",
              "      <td>Set in a huge open world, Dragon’s Dogma: Dark Arisen presents a rewarding action combat experie...</td>\n",
              "      <td>['Underrated.', 'A grandes rasgos, es como un MMO pero para un jugador. Me explico:', 'peak kino...</td>\n",
              "      <td>1.1K</td>\n",
              "      <td>45</td>\n",
              "      <td>487</td>\n",
              "      <td>206</td>\n",
              "    </tr>\n",
              "    <tr>\n",
              "      <th>1510</th>\n",
              "      <td>1510</td>\n",
              "      <td>Baldur's Gate 3</td>\n",
              "      <td>Oct 06, 2020</td>\n",
              "      <td>['Larian Studios']</td>\n",
              "      <td>4.1</td>\n",
              "      <td>165</td>\n",
              "      <td>165</td>\n",
              "      <td>['Adventure', 'RPG', 'Strategy', 'Tactical', 'Turn Based Strategy']</td>\n",
              "      <td>An ancient evil has returned to Baldur's Gate, intent on devouring it from the inside out. The f...</td>\n",
              "      <td>['Bu türe bu oyunla girmeye çalışmak hataydı sanırım.', \"Even if this turns out to be a perfect ...</td>\n",
              "      <td>269</td>\n",
              "      <td>79</td>\n",
              "      <td>388</td>\n",
              "      <td>602</td>\n",
              "    </tr>\n",
              "    <tr>\n",
              "      <th>1511</th>\n",
              "      <td>1511</td>\n",
              "      <td>The LEGO Movie Videogame</td>\n",
              "      <td>Feb 04, 2014</td>\n",
              "      <td>['WB Games', 'TT Fusion']</td>\n",
              "      <td>2.8</td>\n",
              "      <td>184</td>\n",
              "      <td>184</td>\n",
              "      <td>['Adventure', 'Puzzle']</td>\n",
              "      <td>Join Emmet and an unlikely group of resistance fighters in their heroic quest to thwart Lord Bus...</td>\n",
              "      <td>['Legal', 'Pretty Average Lego Game But It Was My Childhood', 'pog lego game', 'Pretty decent le...</td>\n",
              "      <td>1.7K</td>\n",
              "      <td>11</td>\n",
              "      <td>239</td>\n",
              "      <td>73</td>\n",
              "    </tr>\n",
              "  </tbody>\n",
              "</table>\n",
              "<p>1509 rows × 14 columns</p>\n",
              "</div>\n",
              "    <div class=\"colab-df-buttons\">\n",
              "\n",
              "  <div class=\"colab-df-container\">\n",
              "    <button class=\"colab-df-convert\" onclick=\"convertToInteractive('df-34f37c4b-a94b-4a74-92f3-71e592c7f8ed')\"\n",
              "            title=\"Convert this dataframe to an interactive table.\"\n",
              "            style=\"display:none;\">\n",
              "\n",
              "  <svg xmlns=\"http://www.w3.org/2000/svg\" height=\"24px\" viewBox=\"0 -960 960 960\">\n",
              "    <path d=\"M120-120v-720h720v720H120Zm60-500h600v-160H180v160Zm220 220h160v-160H400v160Zm0 220h160v-160H400v160ZM180-400h160v-160H180v160Zm440 0h160v-160H620v160ZM180-180h160v-160H180v160Zm440 0h160v-160H620v160Z\"/>\n",
              "  </svg>\n",
              "    </button>\n",
              "\n",
              "  <style>\n",
              "    .colab-df-container {\n",
              "      display:flex;\n",
              "      gap: 12px;\n",
              "    }\n",
              "\n",
              "    .colab-df-convert {\n",
              "      background-color: #E8F0FE;\n",
              "      border: none;\n",
              "      border-radius: 50%;\n",
              "      cursor: pointer;\n",
              "      display: none;\n",
              "      fill: #1967D2;\n",
              "      height: 32px;\n",
              "      padding: 0 0 0 0;\n",
              "      width: 32px;\n",
              "    }\n",
              "\n",
              "    .colab-df-convert:hover {\n",
              "      background-color: #E2EBFA;\n",
              "      box-shadow: 0px 1px 2px rgba(60, 64, 67, 0.3), 0px 1px 3px 1px rgba(60, 64, 67, 0.15);\n",
              "      fill: #174EA6;\n",
              "    }\n",
              "\n",
              "    .colab-df-buttons div {\n",
              "      margin-bottom: 4px;\n",
              "    }\n",
              "\n",
              "    [theme=dark] .colab-df-convert {\n",
              "      background-color: #3B4455;\n",
              "      fill: #D2E3FC;\n",
              "    }\n",
              "\n",
              "    [theme=dark] .colab-df-convert:hover {\n",
              "      background-color: #434B5C;\n",
              "      box-shadow: 0px 1px 3px 1px rgba(0, 0, 0, 0.15);\n",
              "      filter: drop-shadow(0px 1px 2px rgba(0, 0, 0, 0.3));\n",
              "      fill: #FFFFFF;\n",
              "    }\n",
              "  </style>\n",
              "\n",
              "    <script>\n",
              "      const buttonEl =\n",
              "        document.querySelector('#df-34f37c4b-a94b-4a74-92f3-71e592c7f8ed button.colab-df-convert');\n",
              "      buttonEl.style.display =\n",
              "        google.colab.kernel.accessAllowed ? 'block' : 'none';\n",
              "\n",
              "      async function convertToInteractive(key) {\n",
              "        const element = document.querySelector('#df-34f37c4b-a94b-4a74-92f3-71e592c7f8ed');\n",
              "        const dataTable =\n",
              "          await google.colab.kernel.invokeFunction('convertToInteractive',\n",
              "                                                    [key], {});\n",
              "        if (!dataTable) return;\n",
              "\n",
              "        const docLinkHtml = 'Like what you see? Visit the ' +\n",
              "          '<a target=\"_blank\" href=https://colab.research.google.com/notebooks/data_table.ipynb>data table notebook</a>'\n",
              "          + ' to learn more about interactive tables.';\n",
              "        element.innerHTML = '';\n",
              "        dataTable['output_type'] = 'display_data';\n",
              "        await google.colab.output.renderOutput(dataTable, element);\n",
              "        const docLink = document.createElement('div');\n",
              "        docLink.innerHTML = docLinkHtml;\n",
              "        element.appendChild(docLink);\n",
              "      }\n",
              "    </script>\n",
              "  </div>\n",
              "\n",
              "\n",
              "<div id=\"df-00193994-c41d-479f-a99c-3878bb107c50\">\n",
              "  <button class=\"colab-df-quickchart\" onclick=\"quickchart('df-00193994-c41d-479f-a99c-3878bb107c50')\"\n",
              "            title=\"Suggest charts.\"\n",
              "            style=\"display:none;\">\n",
              "\n",
              "<svg xmlns=\"http://www.w3.org/2000/svg\" height=\"24px\"viewBox=\"0 0 24 24\"\n",
              "     width=\"24px\">\n",
              "    <g>\n",
              "        <path d=\"M19 3H5c-1.1 0-2 .9-2 2v14c0 1.1.9 2 2 2h14c1.1 0 2-.9 2-2V5c0-1.1-.9-2-2-2zM9 17H7v-7h2v7zm4 0h-2V7h2v10zm4 0h-2v-4h2v4z\"/>\n",
              "    </g>\n",
              "</svg>\n",
              "  </button>\n",
              "\n",
              "<style>\n",
              "  .colab-df-quickchart {\n",
              "      --bg-color: #E8F0FE;\n",
              "      --fill-color: #1967D2;\n",
              "      --hover-bg-color: #E2EBFA;\n",
              "      --hover-fill-color: #174EA6;\n",
              "      --disabled-fill-color: #AAA;\n",
              "      --disabled-bg-color: #DDD;\n",
              "  }\n",
              "\n",
              "  [theme=dark] .colab-df-quickchart {\n",
              "      --bg-color: #3B4455;\n",
              "      --fill-color: #D2E3FC;\n",
              "      --hover-bg-color: #434B5C;\n",
              "      --hover-fill-color: #FFFFFF;\n",
              "      --disabled-bg-color: #3B4455;\n",
              "      --disabled-fill-color: #666;\n",
              "  }\n",
              "\n",
              "  .colab-df-quickchart {\n",
              "    background-color: var(--bg-color);\n",
              "    border: none;\n",
              "    border-radius: 50%;\n",
              "    cursor: pointer;\n",
              "    display: none;\n",
              "    fill: var(--fill-color);\n",
              "    height: 32px;\n",
              "    padding: 0;\n",
              "    width: 32px;\n",
              "  }\n",
              "\n",
              "  .colab-df-quickchart:hover {\n",
              "    background-color: var(--hover-bg-color);\n",
              "    box-shadow: 0 1px 2px rgba(60, 64, 67, 0.3), 0 1px 3px 1px rgba(60, 64, 67, 0.15);\n",
              "    fill: var(--button-hover-fill-color);\n",
              "  }\n",
              "\n",
              "  .colab-df-quickchart-complete:disabled,\n",
              "  .colab-df-quickchart-complete:disabled:hover {\n",
              "    background-color: var(--disabled-bg-color);\n",
              "    fill: var(--disabled-fill-color);\n",
              "    box-shadow: none;\n",
              "  }\n",
              "\n",
              "  .colab-df-spinner {\n",
              "    border: 2px solid var(--fill-color);\n",
              "    border-color: transparent;\n",
              "    border-bottom-color: var(--fill-color);\n",
              "    animation:\n",
              "      spin 1s steps(1) infinite;\n",
              "  }\n",
              "\n",
              "  @keyframes spin {\n",
              "    0% {\n",
              "      border-color: transparent;\n",
              "      border-bottom-color: var(--fill-color);\n",
              "      border-left-color: var(--fill-color);\n",
              "    }\n",
              "    20% {\n",
              "      border-color: transparent;\n",
              "      border-left-color: var(--fill-color);\n",
              "      border-top-color: var(--fill-color);\n",
              "    }\n",
              "    30% {\n",
              "      border-color: transparent;\n",
              "      border-left-color: var(--fill-color);\n",
              "      border-top-color: var(--fill-color);\n",
              "      border-right-color: var(--fill-color);\n",
              "    }\n",
              "    40% {\n",
              "      border-color: transparent;\n",
              "      border-right-color: var(--fill-color);\n",
              "      border-top-color: var(--fill-color);\n",
              "    }\n",
              "    60% {\n",
              "      border-color: transparent;\n",
              "      border-right-color: var(--fill-color);\n",
              "    }\n",
              "    80% {\n",
              "      border-color: transparent;\n",
              "      border-right-color: var(--fill-color);\n",
              "      border-bottom-color: var(--fill-color);\n",
              "    }\n",
              "    90% {\n",
              "      border-color: transparent;\n",
              "      border-bottom-color: var(--fill-color);\n",
              "    }\n",
              "  }\n",
              "</style>\n",
              "\n",
              "  <script>\n",
              "    async function quickchart(key) {\n",
              "      const quickchartButtonEl =\n",
              "        document.querySelector('#' + key + ' button');\n",
              "      quickchartButtonEl.disabled = true;  // To prevent multiple clicks.\n",
              "      quickchartButtonEl.classList.add('colab-df-spinner');\n",
              "      try {\n",
              "        const charts = await google.colab.kernel.invokeFunction(\n",
              "            'suggestCharts', [key], {});\n",
              "      } catch (error) {\n",
              "        console.error('Error during call to suggestCharts:', error);\n",
              "      }\n",
              "      quickchartButtonEl.classList.remove('colab-df-spinner');\n",
              "      quickchartButtonEl.classList.add('colab-df-quickchart-complete');\n",
              "    }\n",
              "    (() => {\n",
              "      let quickchartButtonEl =\n",
              "        document.querySelector('#df-00193994-c41d-479f-a99c-3878bb107c50 button');\n",
              "      quickchartButtonEl.style.display =\n",
              "        google.colab.kernel.accessAllowed ? 'block' : 'none';\n",
              "    })();\n",
              "  </script>\n",
              "</div>\n",
              "    </div>\n",
              "  </div>\n"
            ]
          },
          "metadata": {},
          "execution_count": 40
        }
      ]
    },
    {
      "cell_type": "code",
      "source": [
        "df.loc[df['Title'].duplicated()].count()"
      ],
      "metadata": {
        "colab": {
          "base_uri": "https://localhost:8080/"
        },
        "id": "MDhb5zmlrzWK",
        "outputId": "03ccef57-e018-4b48-e3f5-61a429699bbb"
      },
      "execution_count": 42,
      "outputs": [
        {
          "output_type": "execute_result",
          "data": {
            "text/plain": [
              "Unnamed: 0           413\n",
              "Title                413\n",
              "Release Date         413\n",
              "Team                 413\n",
              "Rating               413\n",
              "Times Listed         413\n",
              "Number of Reviews    413\n",
              "Genres               413\n",
              "Summary              413\n",
              "Reviews              413\n",
              "Plays                413\n",
              "Playing              413\n",
              "Backlogs             413\n",
              "Wishlist             413\n",
              "dtype: int64"
            ]
          },
          "metadata": {},
          "execution_count": 42
        }
      ]
    },
    {
      "cell_type": "code",
      "source": [
        "jogosTopRating = df.query(\"`Rating` > 4\").count()"
      ],
      "metadata": {
        "id": "R3JX_UJSsCV6"
      },
      "execution_count": 43,
      "outputs": []
    },
    {
      "cell_type": "code",
      "source": [
        "jogosTopRating.explode('Genres')"
      ],
      "metadata": {
        "colab": {
          "base_uri": "https://localhost:8080/"
        },
        "id": "LgS7YnA1sTHC",
        "outputId": "bfbc3d77-c968-441d-e578-e613d9df4731"
      },
      "execution_count": 45,
      "outputs": [
        {
          "output_type": "execute_result",
          "data": {
            "text/plain": [
              "0     457\n",
              "1     457\n",
              "2     457\n",
              "3     457\n",
              "4     457\n",
              "5     457\n",
              "6     457\n",
              "7     457\n",
              "8     457\n",
              "9     457\n",
              "10    457\n",
              "11    457\n",
              "12    457\n",
              "13    457\n",
              "dtype: int64"
            ]
          },
          "metadata": {},
          "execution_count": 45
        }
      ]
    },
    {
      "cell_type": "markdown",
      "source": [
        "Entender o erro que aconteceu com a função explode:"
      ],
      "metadata": {
        "id": "6T2t8zi6uhmR"
      }
    },
    {
      "cell_type": "code",
      "source": [
        "jogosTopRating['Genres'].asType(list).explode(column = \"'Genres'\")"
      ],
      "metadata": {
        "colab": {
          "base_uri": "https://localhost:8080/",
          "height": 175
        },
        "id": "AKJzopvps1Ez",
        "outputId": "1f7a109c-2327-4363-fea0-93b2c8e3d3f1"
      },
      "execution_count": 50,
      "outputs": [
        {
          "output_type": "error",
          "ename": "AttributeError",
          "evalue": "ignored",
          "traceback": [
            "\u001b[0;31m---------------------------------------------------------------------------\u001b[0m",
            "\u001b[0;31mAttributeError\u001b[0m                            Traceback (most recent call last)",
            "\u001b[0;32m<ipython-input-50-fe7142f7fc02>\u001b[0m in \u001b[0;36m<cell line: 1>\u001b[0;34m()\u001b[0m\n\u001b[0;32m----> 1\u001b[0;31m \u001b[0mjogosTopRating\u001b[0m\u001b[0;34m[\u001b[0m\u001b[0;34m'Genres'\u001b[0m\u001b[0;34m]\u001b[0m\u001b[0;34m.\u001b[0m\u001b[0masType\u001b[0m\u001b[0;34m(\u001b[0m\u001b[0mlist\u001b[0m\u001b[0;34m)\u001b[0m\u001b[0;34m.\u001b[0m\u001b[0mexplode\u001b[0m\u001b[0;34m(\u001b[0m\u001b[0mcolumn\u001b[0m \u001b[0;34m=\u001b[0m \u001b[0;34m\"'Genres'\"\u001b[0m\u001b[0;34m)\u001b[0m\u001b[0;34m\u001b[0m\u001b[0;34m\u001b[0m\u001b[0m\n\u001b[0m",
            "\u001b[0;31mAttributeError\u001b[0m: 'numpy.int64' object has no attribute 'asType'"
          ]
        }
      ]
    }
  ]
}